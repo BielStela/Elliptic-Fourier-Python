{
 "cells": [
  {
   "cell_type": "markdown",
   "metadata": {},
   "source": [
    "# Elliptic Fourier Descriptors "
   ]
  },
  {
   "cell_type": "code",
   "execution_count": 11,
   "metadata": {
    "collapsed": false
   },
   "outputs": [
    {
     "name": "stdout",
     "output_type": "stream",
     "text": [
      "Populating the interactive namespace from numpy and matplotlib\n"
     ]
    },
    {
     "name": "stderr",
     "output_type": "stream",
     "text": [
      "WARNING: pylab import has clobbered these variables: ['tri', 'colors', 'axes', 'legend', 'rc_context', 'figure', 'f', 'quiver', 'axis', 'streamplot', 'rc', 'text', 'stackplot', 'cycler', 'contour', 'colorbar', 'rcdefaults', 'table', 'test']\n",
      "`%matplotlib` prevents importing * from pylab and numpy\n"
     ]
    }
   ],
   "source": [
    "#load all needed libraries\n",
    "import numpy as np\n",
    "import pandas as pd\n",
    "from matplotlib import *\n",
    "%pylab inline"
   ]
  },
  {
   "cell_type": "code",
   "execution_count": 12,
   "metadata": {
    "collapsed": true
   },
   "outputs": [],
   "source": [
    "#loading the outline coordinates XY data\n",
    "M = np.loadtxt('Gomphonema.txt')"
   ]
  },
  {
   "cell_type": "markdown",
   "metadata": {},
   "source": [
    "### Equations for geting the elliptic fourier coeficients"
   ]
  },
  {
   "cell_type": "markdown",
   "metadata": {},
   "source": [
    "$$a_n= \\frac{T}{2\\pi^{2}n²}\\sum_{p=1}^K\\,\\frac{\\Delta x_p}{\\Delta t_p}\\left(\\cos\\frac{2\\pi n t_p}{T}-\\cos\\frac{2\\pi n t_{p-1}}{T}\\right)$$\n",
    "\n",
    "$$b_n= \\frac{T}{2\\pi^{2}n²}\\sum_{p=1}^K\\,\\frac{\\Delta x_p}{\\Delta t_p}\\left(\\sin\\frac{2\\pi n t_p}{T}-\\sin\\frac{2\\pi n t_{p-1}}{T}\\right)$$"
   ]
  },
  {
   "cell_type": "code",
   "execution_count": 13,
   "metadata": {
    "collapsed": false
   },
   "outputs": [],
   "source": [
    "#function for \n",
    "def efourier (M,n=len(M)/2):\n",
    "    dfM=pd.DataFrame(M)            #fitting the data in pandas Dataframes\n",
    "    Mx=pd.DataFrame(dfM[0])        \n",
    "    My=pd.DataFrame(dfM[1])\n",
    "    My.columns=[0]\n",
    "    n=len(Mx)/2                    #number of harmonics\n",
    "    p=len(Mx)                      #number of sampled points\n",
    "\n",
    "    Dx= Mx-Mx.shift(+1)\n",
    "    Dx=Dx.fillna(0)\n",
    "    Dy= My-My.shift(+1)\n",
    "    Dy= Dy.fillna(1)\n",
    "\n",
    "\n",
    "    Dt=np.sqrt(Dx.values**2+Dy.values**2)\n",
    "    t1=np.cumsum(Dt)\n",
    "    t1=pd.DataFrame(t1)\n",
    "    t1m1=t1.shift(+1)\n",
    "    t1m1=t1m1.fillna(0)\n",
    "    T=sum(Dt)\n",
    "\n",
    "    an=np.zeros(n)\n",
    "    bn=np.zeros(n)\n",
    "    cn=np.zeros(n)\n",
    "    dn=np.zeros(n)\n",
    "\n",
    "    for i in range(1,n):\n",
    "        an[i]=(T/(2*np.pi**2*i**2))*np.sum((Dx/Dt)*(np.cos(2*i*np.pi*t1/T)-np.cos(2*np.pi*i*t1m1/T)))                                   \n",
    "        bn[i]=(T/(2*np.pi**2*i**2))*np.sum((Dx/Dt)*(np.sin(2*i*np.pi*t1/T)-np.sin(2*np.pi*i*t1m1/T)))\n",
    "        cn[i]=(T/(2*np.pi**2*i**2))*np.sum((Dy/Dt)*(np.cos(2*i*np.pi*t1/T)-np.cos(2*np.pi*i*t1m1/T)))                             \n",
    "        dn[i]=(T/(2*np.pi**2*i**2))*np.sum((Dy/Dt)*(np.sin(2*i*np.pi*t1/T)-np.sin(2*np.pi*i*t1m1/T)))\n",
    "\n",
    "\n",
    "    ao=[2*np.sum(Mx.values*Dt/T)]\n",
    "    co=[2*np.sum(My.values*Dt/T)]\n",
    "\n",
    "    \n",
    "\n",
    "    an=np.asarray(an)\n",
    "    bn=np.asarray(bn)\n",
    "    cn=np.asarray(cn)\n",
    "    dn=np.asarray(dn)\n",
    "\n",
    "    return pd.DataFrame(dict(an=an,bn=bn,cn=cn,dn=dn), columns=['an','bn','cn','dn']), ao, co, n"
   ]
  },
  {
   "cell_type": "code",
   "execution_count": 14,
   "metadata": {
    "collapsed": false
   },
   "outputs": [],
   "source": [
    "coef,ao,co,n=efourier(M) #make the dataframe with the coeficients "
   ]
  },
  {
   "cell_type": "markdown",
   "metadata": {},
   "source": [
    "### Inverse elliptic fourier equation "
   ]
  },
  {
   "cell_type": "markdown",
   "metadata": {},
   "source": [
    "$$x(t)= \\frac{a_0}{2}+\\sum_1^{+\\infty} a_n\\, \\cos n \\omega t+b_n\\,\\sin n \\omega t$$"
   ]
  },
  {
   "cell_type": "code",
   "execution_count": 15,
   "metadata": {
    "collapsed": false
   },
   "outputs": [],
   "source": [
    "#functions for reverse the fourier coeficients to XY coordinates data\n",
    "theta = linspace(0,2*np.pi, n+1)\n",
    "theta = np.delete(theta, n, 0)\n",
    "\n",
    "def i_seno (i):\n",
    "    return np.sin(i*theta)\n",
    "\n",
    "def i_coseno (i):\n",
    "    return np.cos(i*theta)\n",
    "    \n",
    "def iefourier(an,bn,cn,dn,k,n,ao,co):\n",
    "    hx=np.zeros((k,n))\n",
    "    hy=np.zeros((k,n))\n",
    "    for i in np.arange(1,k):\n",
    "        hx[i,]=an[i]*i_coseno(i)+bn[i]*i_seno(i)\n",
    "        hy[i,]=cn[i]*i_coseno(i)+dn[i]*i_seno(i)\n",
    "\n",
    "\n",
    "    sum_hx=sum(hx,0)\n",
    "    sum_hy=sum(hy,0)\n",
    "\n",
    "    x = sum_hx+ao[0]/2\n",
    "    y = sum_hy+co[0]/2\n",
    "    return pd.DataFrame(dict(x=x,y=y))"
   ]
  },
  {
   "cell_type": "code",
   "execution_count": 16,
   "metadata": {
    "collapsed": false
   },
   "outputs": [],
   "source": [
    "i=2 #number of harmonic+1\n",
    "\n",
    "coords = iefourier(coef.an,coef.bn,coef.cn,coef.dn,i,n,ao,co)            "
   ]
  },
  {
   "cell_type": "code",
   "execution_count": 18,
   "metadata": {
    "collapsed": false,
    "scrolled": true
   },
   "outputs": [
    {
     "data": {
      "image/png": "[encoded data removed]",
      "text/plain": [
       "<matplotlib.figure.Figure at 0xa3ec780>"
      ]
     },
     "metadata": {},
     "output_type": "display_data"
    }
   ],
   "source": [
    "#ploting the original shape and the n'th-harmonic over it\n",
    "plt.fill(M[:,0],M[:,1],'k', alpha=0.2)\n",
    "\n",
    "plt.plot(coords['x'],coords['y'], 'r-')\n",
    "\n",
    "figsize(9,3)\n",
    "plt.title('n=%d'%(i-1))\n",
    "#savefig('')\n",
    "plt.show()"
   ]
  },
  {
   "cell_type": "code",
   "execution_count": 8,
   "metadata": {
    "collapsed": true
   },
   "outputs": [],
   "source": [
    "#generating i number of plots for each harmonic\n",
    "for i in np.arange(1,50):    #range of harmonics to be ploted\n",
    "    ief = iefourier(coef.an,coef.bn,coef.cn,coef.dn,i,n,ao,co)\n",
    "    plt.fill(M[:,0],M[:,1],'k', alpha=0.2)\n",
    "\n",
    "    plt.plot(ief['x'],ief['y'], 'r-')\n",
    "    #plt.ylim((10,90))\n",
    "    figsize(9,3)\n",
    "    plt.title('n=%d'%(i-1))\n",
    "    savefig('ief-%0d.png'%(i-1))\n",
    "    plt.close()\n",
    "    "
   ]
  },
  {
   "cell_type": "code",
   "execution_count": 9,
   "metadata": {
    "collapsed": false
   },
   "outputs": [
    {
     "data": {
      "image/png": "[encoded data removed]",
      "text/plain": [
       "<matplotlib.figure.Figure at 0x92da390>"
      ]
     },
     "metadata": {},
     "output_type": "display_data"
    }
   ],
   "source": []
  },
  {
   "cell_type": "code",
   "execution_count": null,
   "metadata": {
    "collapsed": true
   },
   "outputs": [],
   "source": []
  }
 ],
 "metadata": {
  "kernelspec": {
   "display_name": "Python 2",
   "language": "python",
   "name": "python2"
  },
  "language_info": {
   "codemirror_mode": {
    "name": "ipython",
    "version": 2
   },
   "file_extension": ".py",
   "mimetype": "text/x-python",
   "name": "python",
   "nbconvert_exporter": "python",
   "pygments_lexer": "ipython2",
   "version": "2.7.11"
  }
 },
 "nbformat": 4,
 "nbformat_minor": 0
}
